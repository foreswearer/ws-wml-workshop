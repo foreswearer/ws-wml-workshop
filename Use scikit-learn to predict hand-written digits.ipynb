{
    "nbformat_minor": 1, 
    "cells": [
        {
            "source": "<table style='border: none' align='left'>\n   <tr style='border: none'>\n      <th style='border: none'><font face='verdana' size='5' color='black'><b>Use scikit-learn to predict hand-written digits</b></th>\n      <th style='border: none'><img src='https://github.com/pmservice/customer-satisfaction-prediction/blob/master/app/static/images/ml_icon_gray.png?raw=true' alt='Watson Machine Learning icon' height='40' width='40'></th>\n   </tr>\n   <tr style='border: none'>\n       <th style='border: none'><img src='https://github.com/pmservice/wml-sample-models/raw/master/scikit-learn/hand-written-digits-recognition/images/numbers_banner-04.png' width='600' alt='Icon'> </th>\n   </tr>\n</table>", 
            "cell_type": "markdown", 
            "metadata": {}
        }, 
        {
            "source": "This notebook demonstrates how to utilize the <a href=\"https://pypi.python.org/pypi/watson-machine-learning-client\" target=\"_blank\" rel=\"noopener noreferrer\">watson-machine-learning-client</a> package in order to save, deploy, and score a predictive model.\n\nSome familiarity with Python is helpful. This notebook uses Python 3.5, scikit-learn, and the Watson Machine Learning (WML) API client (`watson-machine-learning-client`).\n\nYou will use the sample data set of hand-written digit images, **sklearn.datasets.load_digits**, which is available in scikit-learn to recognize hand-written digits.\n\n## Learning goals\n\nIn this notebook, you will learn how to:\n\n-  Load a sample data set from ``scikit-learn``.\n-  Explore data.\n-  Split data for training and evaluation.\n-  Create a scikit-learn machine learning pipeline.\n-  Train and evaluate a model.\n-  Store the model in the Watson Machine Learning (WML) repository.\n-  Deploy the model for online scoringin the Watson Machine Learning (WML) repository.\n-  Score test records.\n\n\n## Contents\n\n1.\t[Set up the environment](#setup)\n2.\t[Load and explore data](#load)\n3.\t[Create a scikit-learn model](#model)\n4.\t[Save, load, and delete a model in the WML repository](#persistence)\n5.\t[Deploy and score data in the WML repository](#scoring)\n6.\t[Summary and next steps](#summary)", 
            "cell_type": "markdown", 
            "metadata": {}
        }, 
        {
            "source": "<a id='setup'></a>\n## 1. Set up the environment\n\nBefore you use the sample code in this notebook, you must perform the following setup tasks:\n\n-  Create a <a href=\"https://console.ng.bluemix.net/catalog/services/ibm-watson-machine-learning/\" target=\"_blank\" rel=\"noopener no referrer\">Watson Machine Learning (WML) Service</a> instance (a free plan is offered and information about how to create the instance can be found <a href=\"https://dataplatform.ibm.com/docs/content/analyze-data/wml-setup.html\" target=\"_blank\" rel=\"noopener no referrer\">here</a>)\n\n- Configure your local python environment:\n  + python 3.5\n  + scikit-learn 0.19.1\n  + watson-machine-learning-client", 
            "cell_type": "markdown", 
            "metadata": {}
        }, 
        {
            "source": "**Tip**: Run the cell below to install packages from <a href='https://pypi.python.org/pypi' target='_blank' rel='noopener no referrer'>PyPI</a>.", 
            "cell_type": "markdown", 
            "metadata": {}
        }, 
        {
            "source": "# Remove current wml package files.\n!rm -rf $PIP_BUILD/watson-machine-learning-client", 
            "cell_type": "code", 
            "metadata": {}, 
            "outputs": [], 
            "execution_count": 1
        }, 
        {
            "source": "# Install watson-machine-learning-client required for online deployment and scoring.\n!pip install --user watson-machine-learning-client --upgrade", 
            "cell_type": "code", 
            "metadata": {}, 
            "outputs": [
                {
                    "output_type": "stream", 
                    "name": "stdout", 
                    "text": "Collecting watson-machine-learning-client\n\u001b[?25l  Downloading https://files.pythonhosted.org/packages/0e/a1/c503614455fb734b0989e8d6abaf24d0544d7370f7eb2b80ffbc99a40caf/watson_machine_learning_client-1.0.371-py3-none-any.whl (536kB)\n\u001b[K    100% |\u2588\u2588\u2588\u2588\u2588\u2588\u2588\u2588\u2588\u2588\u2588\u2588\u2588\u2588\u2588\u2588\u2588\u2588\u2588\u2588\u2588\u2588\u2588\u2588\u2588\u2588\u2588\u2588\u2588\u2588\u2588\u2588| 542kB 18.1MB/s ta 0:00:01\n\u001b[?25hRequirement not upgraded as not directly required: ibm-cos-sdk in /opt/conda/envs/DSX-Python35/lib/python3.5/site-packages (from watson-machine-learning-client) (2.0.1)\nRequirement not upgraded as not directly required: tqdm in /opt/conda/envs/DSX-Python35/lib/python3.5/site-packages (from watson-machine-learning-client) (4.19.5)\nRequirement not upgraded as not directly required: requests in /opt/conda/envs/DSX-Python35/lib/python3.5/site-packages (from watson-machine-learning-client) (2.18.4)\nRequirement not upgraded as not directly required: pandas in /opt/conda/envs/DSX-Python35/lib/python3.5/site-packages (from watson-machine-learning-client) (0.21.0)\nRequirement not upgraded as not directly required: urllib3 in /opt/conda/envs/DSX-Python35/lib/python3.5/site-packages (from watson-machine-learning-client) (1.22)\nRequirement not upgraded as not directly required: tabulate in /opt/conda/envs/DSX-Python35/lib/python3.5/site-packages (from watson-machine-learning-client) (0.8.2)\nRequirement not upgraded as not directly required: lomond in /opt/conda/envs/DSX-Python35/lib/python3.5/site-packages (from watson-machine-learning-client) (0.1.13)\nRequirement not upgraded as not directly required: certifi in /opt/conda/envs/DSX-Python35/lib/python3.5/site-packages (from watson-machine-learning-client) (2019.3.9)\nRequirement not upgraded as not directly required: ibm-cos-sdk-core==2.*,>=2.0.0 in /opt/conda/envs/DSX-Python35/lib/python3.5/site-packages (from ibm-cos-sdk->watson-machine-learning-client) (2.0.1)\nRequirement not upgraded as not directly required: ibm-cos-sdk-s3transfer==2.*,>=2.0.0 in /opt/conda/envs/DSX-Python35/lib/python3.5/site-packages (from ibm-cos-sdk->watson-machine-learning-client) (2.0.1)\nRequirement not upgraded as not directly required: chardet<3.1.0,>=3.0.2 in /opt/conda/envs/DSX-Python35/lib/python3.5/site-packages (from requests->watson-machine-learning-client) (3.0.4)\nRequirement not upgraded as not directly required: idna<2.7,>=2.5 in /opt/conda/envs/DSX-Python35/lib/python3.5/site-packages (from requests->watson-machine-learning-client) (2.6)\nRequirement not upgraded as not directly required: python-dateutil>=2 in /opt/conda/envs/DSX-Python35/lib/python3.5/site-packages (from pandas->watson-machine-learning-client) (2.6.1)\nRequirement not upgraded as not directly required: pytz>=2011k in /opt/conda/envs/DSX-Python35/lib/python3.5/site-packages (from pandas->watson-machine-learning-client) (2018.3)\nRequirement not upgraded as not directly required: numpy>=1.9.0 in /opt/conda/envs/DSX-Python35/lib/python3.5/site-packages (from pandas->watson-machine-learning-client) (1.13.3)\nRequirement not upgraded as not directly required: six>=1.10.0 in /opt/conda/envs/DSX-Python35/lib/python3.5/site-packages (from lomond->watson-machine-learning-client) (1.11.0)\nRequirement not upgraded as not directly required: docutils>=0.10 in /opt/conda/envs/DSX-Python35/lib/python3.5/site-packages (from ibm-cos-sdk-core==2.*,>=2.0.0->ibm-cos-sdk->watson-machine-learning-client) (0.14)\nRequirement not upgraded as not directly required: jmespath<1.0.0,>=0.7.1 in /opt/conda/envs/DSX-Python35/lib/python3.5/site-packages (from ibm-cos-sdk-core==2.*,>=2.0.0->ibm-cos-sdk->watson-machine-learning-client) (0.9.3)\n\u001b[31mtensorflow 1.3.0 requires tensorflow-tensorboard<0.2.0,>=0.1.0, which is not installed.\u001b[0m\nInstalling collected packages: watson-machine-learning-client\nSuccessfully installed watson-machine-learning-client-1.0.371\n"
                }
            ], 
            "execution_count": 2
        }, 
        {
            "source": "<a id='load'></a>\n## 2. Load and explore data", 
            "cell_type": "markdown", 
            "metadata": {}
        }, 
        {
            "source": "In this section, you will load the data from scikit-learn sample data sets and perform basic exploratory data analysis (EDA).", 
            "cell_type": "markdown", 
            "metadata": {}
        }, 
        {
            "source": "!conda install scikit-learn=0.19.1 -y", 
            "cell_type": "code", 
            "metadata": {}, 
            "outputs": [
                {
                    "output_type": "stream", 
                    "name": "stdout", 
                    "text": "Solving environment: done\n\n## Package Plan ##\n\n  environment location: /opt/conda/envs/Python36\n\n  added / updated specs: \n    - scikit-learn=0.19.1\n\n\nThe following packages will be downloaded:\n\n    package                    |            build\n    ---------------------------|-----------------\n    mkl-2018.0.3               |                1       198.7 MB\n    pip-19.1.1                 |           py37_0         1.8 MB\n    setuptools-41.0.1          |           py37_0         648 KB\n    certifi-2019.6.16          |           py37_0         154 KB\n    mkl_fft-1.0.6              |   py37h7dd41cf_0         150 KB\n    numpy-base-1.15.4          |   py37h81de0dd_0         4.2 MB\n    scikit-learn-0.19.1        |   py37hedc7406_0         5.2 MB\n    python-3.7.3               |       h0371630_0        36.7 MB\n    libgcc-ng-9.1.0            |       hdf63c60_0         8.1 MB\n    sqlite-3.28.0              |       h7b6447c_0         1.9 MB\n    scipy-1.1.0                |   py37hfa4b5c9_1        17.9 MB\n    _libgcc_mutex-0.1          |             main           3 KB\n    wheel-0.33.4               |           py37_0          39 KB\n    numpy-1.15.4               |   py37h1d66e8a_0          35 KB\n    mkl_random-1.0.1           |   py37h4414c95_1         372 KB\n    ------------------------------------------------------------\n                                           Total:       275.9 MB\n\nThe following NEW packages will be INSTALLED:\n\n    _libgcc_mutex:        0.1-main             \n\nThe following packages will be UPDATED:\n\n    boto3:                1.9.82-py_0           --> 1.9.82-py_0          \n    botocore:             1.12.82-py_0          --> 1.12.82-py_0         \n    certifi:              2019.3.9-py36_0       --> 2019.6.16-py37_0     \n    cloudpickle:          0.7.0-py_0            --> 0.7.0-py_0           \n    dask:                 1.1.1-py_0            --> 1.1.1-py_0           \n    dask-core:            1.1.1-py_0            --> 1.1.1-py_0           \n    libgcc-ng:            8.2.0-hdf63c60_1      --> 9.1.0-hdf63c60_0     \n    numpy:                1.15.4-py36h7e9f1db_0 --> 1.15.4-py37h1d66e8a_0\n    numpy-base:           1.15.4-py36hde5b4d6_0 --> 1.15.4-py37h81de0dd_0\n    pbr:                  5.1.3-py_0            --> 5.1.3-py_0           \n    pip:                  19.1.1-py36_0         --> 19.1.1-py37_0        \n    prompt_toolkit:       2.0.8-py_0            --> 2.0.8-py_0           \n    pyshp:                2.1.0-py_0            --> 2.1.0-py_0           \n    python:               3.6.8-h0371630_0      --> 3.7.3-h0371630_0     \n    qtawesome:            0.5.6-py_0            --> 0.5.6-py_0           \n    qtpy:                 1.6.0-py_0            --> 1.6.0-py_0           \n    rope:                 0.11.0-py_0           --> 0.11.0-py_0          \n    setuptools:           40.8.0-py36_0         --> 41.0.1-py37_0        \n    sqlite:               3.26.0-h7b6447c_0     --> 3.28.0-h7b6447c_0    \n    tensorflow-estimator: 1.13.0-py_0           --> 1.13.0-py_0          \n    wheel:                0.32.3-py36_0         --> 0.33.4-py37_0        \n\nThe following packages will be DOWNGRADED:\n\n    mkl:                  2019.1-144            --> 2018.0.3-1           \n    mkl_fft:              1.0.10-py36ha843d7b_0 --> 1.0.6-py37h7dd41cf_0 \n    mkl_random:           1.0.2-py36hd81dba3_0  --> 1.0.1-py37h4414c95_1 \n    scikit-learn:         0.20.3-py36hd81dba3_0 --> 0.19.1-py37hedc7406_0\n    scipy:                1.2.0-py36h7c811a0_0  --> 1.1.0-py37hfa4b5c9_1 \n\n\nDownloading and Extracting Packages\nmkl-2018.0.3         | 198.7 MB  | ##################################### | 100% \npip-19.1.1           | 1.8 MB    | ##################################### | 100% \nsetuptools-41.0.1    | 648 KB    | ##################################### | 100% \ncertifi-2019.6.16    | 154 KB    | ##################################### | 100% \nmkl_fft-1.0.6        | 150 KB    | ##################################### | 100% \nnumpy-base-1.15.4    | 4.2 MB    | ##################################### | 100% \nscikit-learn-0.19.1  | 5.2 MB    | ##################################### | 100% \npython-3.7.3         | 36.7 MB   | ##################################### | 100% \nlibgcc-ng-9.1.0      | 8.1 MB    | ##################################### | 100% \nsqlite-3.28.0        | 1.9 MB    | ##################################### | 100% \nscipy-1.1.0          | 17.9 MB   | ##################################### | 100% \n_libgcc_mutex-0.1    | 3 KB      | ##################################### | 100% \nwheel-0.33.4         | 39 KB     | ##################################### | 100% \nnumpy-1.15.4         | 35 KB     | ##################################### | 100% \nmkl_random-1.0.1     | 372 KB    | ##################################### | 100% \nPreparing transaction: done\nVerifying transaction: done\nExecuting transaction: done\n"
                }
            ], 
            "execution_count": 52
        }, 
        {
            "source": "# Load the data.\nimport sklearn\nfrom sklearn import datasets\n\n# Description of the Digits Data set.\ndigits = datasets.load_digits()\nprint(digits.DESCR)", 
            "cell_type": "code", 
            "metadata": {}, 
            "outputs": [
                {
                    "output_type": "stream", 
                    "name": "stdout", 
                    "text": "Optical Recognition of Handwritten Digits Data Set\n===================================================\n\nNotes\n-----\nData Set Characteristics:\n    :Number of Instances: 5620\n    :Number of Attributes: 64\n    :Attribute Information: 8x8 image of integer pixels in the range 0..16.\n    :Missing Attribute Values: None\n    :Creator: E. Alpaydin (alpaydin '@' boun.edu.tr)\n    :Date: July; 1998\n\nThis is a copy of the test set of the UCI ML hand-written digits datasets\nhttp://archive.ics.uci.edu/ml/datasets/Optical+Recognition+of+Handwritten+Digits\n\nThe data set contains images of hand-written digits: 10 classes where\neach class refers to a digit.\n\nPreprocessing programs made available by NIST were used to extract\nnormalized bitmaps of handwritten digits from a preprinted form. From a\ntotal of 43 people, 30 contributed to the training set and different 13\nto the test set. 32x32 bitmaps are divided into nonoverlapping blocks of\n4x4 and the number of on pixels are counted in each block. This generates\nan input matrix of 8x8 where each element is an integer in the range\n0..16. This reduces dimensionality and gives invariance to small\ndistortions.\n\nFor info on NIST preprocessing routines, see M. D. Garris, J. L. Blue, G.\nT. Candela, D. L. Dimmick, J. Geist, P. J. Grother, S. A. Janet, and C.\nL. Wilson, NIST Form-Based Handprint Recognition System, NISTIR 5469,\n1994.\n\nReferences\n----------\n  - C. Kaynak (1995) Methods of Combining Multiple Classifiers and Their\n    Applications to Handwritten Digit Recognition, MSc Thesis, Institute of\n    Graduate Studies in Science and Engineering, Bogazici University.\n  - E. Alpaydin, C. Kaynak (1998) Cascading Classifiers, Kybernetika.\n  - Ken Tang and Ponnuthurai N. Suganthan and Xi Yao and A. Kai Qin.\n    Linear dimensionalityreduction using relevance weighted LDA. School of\n    Electrical and Electronic Engineering Nanyang Technological University.\n    2005.\n  - Claudio Gentile. A New Approximate Maximal Margin Classification\n    Algorithm. NIPS. 2000.\n\n"
                }
            ], 
            "execution_count": 3
        }, 
        {
            "source": "The sample data set consists of 8x8 pixel images of hand-written digits.", 
            "cell_type": "markdown", 
            "metadata": {}
        }, 
        {
            "source": "digits.data.shape", 
            "cell_type": "code", 
            "metadata": {}, 
            "outputs": [
                {
                    "output_type": "execute_result", 
                    "data": {
                        "text/plain": "(1797, 64)"
                    }, 
                    "execution_count": 4, 
                    "metadata": {}
                }
            ], 
            "execution_count": 4
        }, 
        {
            "source": "Display the first digit data and label using **data** and **target**. The hand-written digit shown below is an 8x8 pixel image represented by an array.", 
            "cell_type": "markdown", 
            "metadata": {}
        }, 
        {
            "source": "print(digits.data[0].reshape((8, 8)))", 
            "cell_type": "code", 
            "metadata": {}, 
            "outputs": [
                {
                    "output_type": "stream", 
                    "name": "stdout", 
                    "text": "[[  0.   0.   5.  13.   9.   1.   0.   0.]\n [  0.   0.  13.  15.  10.  15.   5.   0.]\n [  0.   3.  15.   2.   0.  11.   8.   0.]\n [  0.   4.  12.   0.   0.   8.   8.   0.]\n [  0.   5.   8.   0.   0.   9.   8.   0.]\n [  0.   4.  11.   0.   1.  12.   7.   0.]\n [  0.   2.  14.   5.  10.  12.   0.   0.]\n [  0.   0.   6.  13.  10.   0.   0.   0.]]\n"
                }
            ], 
            "execution_count": 5
        }, 
        {
            "source": "digits.target[0]", 
            "cell_type": "code", 
            "metadata": {}, 
            "outputs": [
                {
                    "output_type": "execute_result", 
                    "data": {
                        "text/plain": "0"
                    }, 
                    "execution_count": 6, 
                    "metadata": {}
                }
            ], 
            "execution_count": 6
        }, 
        {
            "source": "import matplotlib.pyplot as plt\nimport numpy as np", 
            "cell_type": "code", 
            "metadata": {}, 
            "outputs": [], 
            "execution_count": 7
        }, 
        {
            "source": "# Visualize some digits from the data set.\nf, ((ax1, ax2, ax3, ax4, ax5), (ax6, ax7, ax8, ax9, ax10)) = plt.subplots(2, 5, figsize=(15,5))\nax = [ax1, ax2, ax3, ax4, ax5, ax6, ax7, ax8, ax9, ax10]\n\nfor i in range (len(ax)):\n    plt.gray()\n    ax[i].matshow(digits.images[i])", 
            "cell_type": "code", 
            "metadata": {}, 
            "outputs": [
                {
                    "output_type": "display_data", 
                    "data": {
                        "image/png": "[encoded data removed]", 
                        "text/plain": "<matplotlib.figure.Figure at 0x7fa5f32d3668>"
                    }, 
                    "metadata": {}
                }
            ], 
            "execution_count": 8
        }, 
        {
            "source": "# Labels for the written digits displayed above.\ndigits.target[:10]", 
            "cell_type": "code", 
            "metadata": {}, 
            "outputs": [
                {
                    "output_type": "execute_result", 
                    "data": {
                        "text/plain": "array([0, 1, 2, 3, 4, 5, 6, 7, 8, 9])"
                    }, 
                    "execution_count": 9, 
                    "metadata": {}
                }
            ], 
            "execution_count": 9
        }, 
        {
            "source": "In the next step, count the data examples.", 
            "cell_type": "markdown", 
            "metadata": {}
        }, 
        {
            "source": "# Calculate the number of samples.\nsamples_count = len(digits.images)\n\nprint('Number of samples: ' + str(samples_count))", 
            "cell_type": "code", 
            "metadata": {
                "scrolled": true
            }, 
            "outputs": [
                {
                    "output_type": "stream", 
                    "name": "stdout", 
                    "text": "Number of samples: 1797\n"
                }
            ], 
            "execution_count": 10
        }, 
        {
            "source": "<a id='model'></a>\n## 3. Create a scikit-learn model\n\nIn this section you learn how to:\n- [3.1 Split data](#prep)\n- [3.2 Create a scikit-learn machine learning pipeline](#pipe)\n- [3.3 Train a model](#train)", 
            "cell_type": "markdown", 
            "metadata": {}
        }, 
        {
            "source": "### 3.1 Split data<a id='prep'></a>\n\nIn this subsection you will split your data into: \n- Train data set\n- Test data set\n- Score data sets", 
            "cell_type": "markdown", 
            "metadata": {}
        }, 
        {
            "source": "# Split the data into data sets and display the number of records for each data set.\ntrain_data = digits.data[: int(0.7*samples_count)]\ntrain_labels = digits.target[: int(0.7*samples_count)]\n\ntest_data = digits.data[int(0.7*samples_count): int(0.9*samples_count)]\ntest_labels = digits.target[int(0.7*samples_count): int(0.9*samples_count)]\n\nscore_data = digits.data[int(0.9*samples_count): ]\n\nprint('Number of training records: ' + str(len(train_data)))\nprint('Number of testing records : ' + str(len(test_data)))\nprint('Number of scoring records : ' + str(len(score_data)))", 
            "cell_type": "code", 
            "metadata": {}, 
            "outputs": [
                {
                    "output_type": "stream", 
                    "name": "stdout", 
                    "text": "Number of training records: 1257\nNumber of testing records : 360\nNumber of scoring records : 180\n"
                }
            ], 
            "execution_count": 11
        }, 
        {
            "source": "Your data has been successfully split into three data sets: \n\n-  The train data set, which is the largest group, is used for training.\n-  The test data set will be used for model evaluation and is used to test the assumptions of the model.\n-  The score data set will be used for scoring in Cloud.", 
            "cell_type": "markdown", 
            "metadata": {}
        }, 
        {
            "source": "### 3.2 Create a scikit-learn machine learning pipeline<a id='pipe'></a>", 
            "cell_type": "markdown", 
            "metadata": {}
        }, 
        {
            "source": "In this section, you will create a scikit-learn machine learning pipeline and then train the model.", 
            "cell_type": "markdown", 
            "metadata": {}
        }, 
        {
            "source": "First, import the scikit-learn machine learning modules that are needed in the subsequent steps.", 
            "cell_type": "markdown", 
            "metadata": {}
        }, 
        {
            "source": "# Import scikit-learn packages.\nfrom sklearn.pipeline import Pipeline\nfrom sklearn import preprocessing\nfrom sklearn import svm, metrics", 
            "cell_type": "code", 
            "metadata": {}, 
            "outputs": [], 
            "execution_count": 12
        }, 
        {
            "source": "Standardize the features by removing the mean and scaling to unit variance.", 
            "cell_type": "markdown", 
            "metadata": {}
        }, 
        {
            "source": "scaler = preprocessing.StandardScaler()", 
            "cell_type": "code", 
            "metadata": {}, 
            "outputs": [], 
            "execution_count": 13
        }, 
        {
            "source": "Next, define the estimators you want to use for classification. The following example uses Support Vector Machines (SVM) with the radial basis function (used for non-linear data) as kernel.", 
            "cell_type": "markdown", 
            "metadata": {}
        }, 
        {
            "source": "clf = svm.SVC(kernel='rbf')", 
            "cell_type": "code", 
            "metadata": {}, 
            "outputs": [], 
            "execution_count": 14
        }, 
        {
            "source": "Build the pipeline. A pipeline consists of transformer and an estimator.", 
            "cell_type": "markdown", 
            "metadata": {}
        }, 
        {
            "source": "pipeline = Pipeline([('scaler', scaler), ('svc', clf)])", 
            "cell_type": "code", 
            "metadata": {}, 
            "outputs": [], 
            "execution_count": 15
        }, 
        {
            "source": "### 3.3 Train a model<a id='train'></a>", 
            "cell_type": "markdown", 
            "metadata": {}
        }, 
        {
            "source": "Now, you can use the **pipeline** and **train data** you defined previously to train your SVM model.", 
            "cell_type": "markdown", 
            "metadata": {}
        }, 
        {
            "source": "model = pipeline.fit(train_data, train_labels)", 
            "cell_type": "code", 
            "metadata": {}, 
            "outputs": [], 
            "execution_count": 16
        }, 
        {
            "source": "Use **test data** to generate an evaluation report to check your **model quality**.", 
            "cell_type": "markdown", 
            "metadata": {}
        }, 
        {
            "source": "# Evaluate your model.\npredicted = model.predict(test_data)\n\nprint('Evaluation report: \\n\\n%s' % metrics.classification_report(test_labels, predicted))", 
            "cell_type": "code", 
            "metadata": {}, 
            "outputs": [
                {
                    "output_type": "stream", 
                    "name": "stdout", 
                    "text": "Evaluation report: \n\n             precision    recall  f1-score   support\n\n          0       1.00      0.97      0.99        37\n          1       0.97      0.97      0.97        34\n          2       1.00      0.97      0.99        36\n          3       1.00      0.94      0.97        35\n          4       0.78      0.97      0.87        37\n          5       0.97      0.97      0.97        38\n          6       0.97      0.86      0.91        36\n          7       0.92      0.97      0.94        35\n          8       0.91      0.89      0.90        35\n          9       0.97      0.92      0.94        37\n\navg / total       0.95      0.94      0.95       360\n\n"
                }
            ], 
            "execution_count": 17
        }, 
        {
            "source": "**Note:** You can tune your model, or try creating classification models to achieve better accuracy. For simplicity of this example, the tuning section and model selection are omitted.", 
            "cell_type": "markdown", 
            "metadata": {
                "collapsed": true
            }
        }, 
        {
            "source": "<a id='persistence'></a>\n## 4. Save, load, and delete a model in the WML repository", 
            "cell_type": "markdown", 
            "metadata": {
                "collapsed": true
            }
        }, 
        {
            "source": "In this section, you will learn how to use the `watson-machine-learning-client` package to manage your model in the WML repository.\n\n- [4.1 Set up the WML instance](#work)\n- [4.2 Save the model in the WML repository](#save)\n- [4.3 Load a model from the WML repository](#load_model)\n- [4.4 Delete a model from the WML repository](#delete)", 
            "cell_type": "markdown", 
            "metadata": {}
        }, 
        {
            "source": "**Tip**: You can find more information about the watson-machine-learning-client <a href=\"https://console.bluemix.net/docs/services/service_credentials.html#service_credentials\" target=\"_blank\" rel=\"noopener no referrer\">here</a>[](https://wml-api-pyclient.mybluemix.net).", 
            "cell_type": "markdown", 
            "metadata": {}
        }, 
        {
            "source": "### 4.1 Set up the WML instance<a id='work'></a>", 
            "cell_type": "markdown", 
            "metadata": {}
        }, 
        {
            "source": "First, import required modules.", 
            "cell_type": "markdown", 
            "metadata": {
                "collapsed": true
            }
        }, 
        {
            "source": "from watson_machine_learning_client import WatsonMachineLearningAPIClient", 
            "cell_type": "code", 
            "metadata": {}, 
            "outputs": [
                {
                    "output_type": "stream", 
                    "name": "stderr", 
                    "text": "/opt/conda/envs/DSX-Python35/lib/python3.5/site-packages/sklearn/cross_validation.py:41: DeprecationWarning: This module was deprecated in version 0.18 in favor of the model_selection module into which all the refactored classes and functions are moved. Also note that the interface of the new CV iterators are different from that of this module. This module will be removed in 0.20.\n  \"This module will be removed in 0.20.\", DeprecationWarning)\n"
                }
            ], 
            "execution_count": 18
        }, 
        {
            "source": "**Note**: A deprecation warning is returned from scikit-learn package that does not impact watson machine learning client functionalities.\nAuthenticate to the Watson Machine Learning service on the IBM Cloud.\n\n**Tip**: Authentication information (your credentials) can be found in the <a href=\"https://console.bluemix.net/docs/services/service_credentials.html#service_credentials\" target=\"_blank\" rel=\"noopener no referrer\">Service credentials</a> tab of the service instance that you created on the IBM Cloud. <BR>If you cannot find the **instance_id** field in **Service Credentials**, click **New credential (+)** to generate new authentication information. \n\n**Action**: Enter your Watson Machine Learning service instance credentials here.\n", 
            "cell_type": "markdown", 
            "metadata": {}
        }, 
        {
            "source": "wml_credentials={\n  'url': 'https://ibm-watson-ml.mybluemix.net',\n  'access_key': 'wQtynZqalHaH5bbfIiMsBnyeJaQNif1BYaxfaW9Ixnig',\n  'username': '92def0ed-42f3-4823-aa88-291e19f75f26',\n  'password': '0dca841d-6d9b-410c-9dac-d5bfd56203ff',\n  'instance_id': '466855e5-8ca6-4235-bac7-1f57815409ce'\n}", 
            "cell_type": "code", 
            "metadata": {}, 
            "outputs": [], 
            "execution_count": 19
        }, 
        {
            "source": "#### Instantiate the WML API client object. ", 
            "cell_type": "markdown", 
            "metadata": {}
        }, 
        {
            "source": "client = WatsonMachineLearningAPIClient(wml_credentials)", 
            "cell_type": "code", 
            "metadata": {}, 
            "outputs": [], 
            "execution_count": 20
        }, 
        {
            "source": "#### Get instance details.", 
            "cell_type": "markdown", 
            "metadata": {}
        }, 
        {
            "source": "import json\n\ninstance_details = client.service_instance.get_details()", 
            "cell_type": "code", 
            "metadata": {}, 
            "outputs": [], 
            "execution_count": 21
        }, 
        {
            "source": "### 4.2 Save the model in the WML repository<a id='save'></a>", 
            "cell_type": "markdown", 
            "metadata": {}
        }, 
        {
            "source": "Define the model name when saving the model in the WML repository.", 
            "cell_type": "markdown", 
            "metadata": {}
        }, 
        {
            "source": "published_model = client.repository.store_model(model=model, meta_props={'name':'Digits prediction model'}, \\\n                                                training_data=train_data, training_target=train_labels)", 
            "cell_type": "code", 
            "metadata": {}, 
            "outputs": [], 
            "execution_count": 22
        }, 
        {
            "source": "#### Get information about a specific model in the WML repository.", 
            "cell_type": "markdown", 
            "metadata": {}
        }, 
        {
            "source": "published_model_uid = client.repository.get_model_uid(published_model)\nmodel_details = client.repository.get_details(published_model_uid)\n\nprint(json.dumps(model_details, indent=2))", 
            "cell_type": "code", 
            "metadata": {}, 
            "outputs": [
                {
                    "output_type": "stream", 
                    "name": "stdout", 
                    "text": "{\n  \"entity\": {\n    \"latest_version\": {\n      \"created_at\": \"2019-07-04T07:39:07.935Z\",\n      \"guid\": \"60b977e8-d57b-4ad7-8f8d-ec3b76981a66\",\n      \"url\": \"https://us-south.ml.cloud.ibm.com/v3/ml_assets/models/ddbbb379-6aa1-452f-a0e7-57f5578378ce/versions/60b977e8-d57b-4ad7-8f8d-ec3b76981a66\"\n    },\n    \"input_data_schema\": {\n      \"features\": {\n        \"fields\": [\n          {\n            \"name\": \"f0\",\n            \"type\": \"float\"\n          },\n          {\n            \"name\": \"f1\",\n            \"type\": \"float\"\n          },\n          {\n            \"name\": \"f2\",\n            \"type\": \"float\"\n          },\n          {\n            \"name\": \"f3\",\n            \"type\": \"float\"\n          },\n          {\n            \"name\": \"f4\",\n            \"type\": \"float\"\n          },\n          {\n            \"name\": \"f5\",\n            \"type\": \"float\"\n          },\n          {\n            \"name\": \"f6\",\n            \"type\": \"float\"\n          },\n          {\n            \"name\": \"f7\",\n            \"type\": \"float\"\n          },\n          {\n            \"name\": \"f8\",\n            \"type\": \"float\"\n          },\n          {\n            \"name\": \"f9\",\n            \"type\": \"float\"\n          },\n          {\n            \"name\": \"f10\",\n            \"type\": \"float\"\n          },\n          {\n            \"name\": \"f11\",\n            \"type\": \"float\"\n          },\n          {\n            \"name\": \"f12\",\n            \"type\": \"float\"\n          },\n          {\n            \"name\": \"f13\",\n            \"type\": \"float\"\n          },\n          {\n            \"name\": \"f14\",\n            \"type\": \"float\"\n          },\n          {\n            \"name\": \"f15\",\n            \"type\": \"float\"\n          },\n          {\n            \"name\": \"f16\",\n            \"type\": \"float\"\n          },\n          {\n            \"name\": \"f17\",\n            \"type\": \"float\"\n          },\n          {\n            \"name\": \"f18\",\n            \"type\": \"float\"\n          },\n          {\n            \"name\": \"f19\",\n            \"type\": \"float\"\n          },\n          {\n            \"name\": \"f20\",\n            \"type\": \"float\"\n          },\n          {\n            \"name\": \"f21\",\n            \"type\": \"float\"\n          },\n          {\n            \"name\": \"f22\",\n            \"type\": \"float\"\n          },\n          {\n            \"name\": \"f23\",\n            \"type\": \"float\"\n          },\n          {\n            \"name\": \"f24\",\n            \"type\": \"float\"\n          },\n          {\n            \"name\": \"f25\",\n            \"type\": \"float\"\n          },\n          {\n            \"name\": \"f26\",\n            \"type\": \"float\"\n          },\n          {\n            \"name\": \"f27\",\n            \"type\": \"float\"\n          },\n          {\n            \"name\": \"f28\",\n            \"type\": \"float\"\n          },\n          {\n            \"name\": \"f29\",\n            \"type\": \"float\"\n          },\n          {\n            \"name\": \"f30\",\n            \"type\": \"float\"\n          },\n          {\n            \"name\": \"f31\",\n            \"type\": \"float\"\n          },\n          {\n            \"name\": \"f32\",\n            \"type\": \"float\"\n          },\n          {\n            \"name\": \"f33\",\n            \"type\": \"float\"\n          },\n          {\n            \"name\": \"f34\",\n            \"type\": \"float\"\n          },\n          {\n            \"name\": \"f35\",\n            \"type\": \"float\"\n          },\n          {\n            \"name\": \"f36\",\n            \"type\": \"float\"\n          },\n          {\n            \"name\": \"f37\",\n            \"type\": \"float\"\n          },\n          {\n            \"name\": \"f38\",\n            \"type\": \"float\"\n          },\n          {\n            \"name\": \"f39\",\n            \"type\": \"float\"\n          },\n          {\n            \"name\": \"f40\",\n            \"type\": \"float\"\n          },\n          {\n            \"name\": \"f41\",\n            \"type\": \"float\"\n          },\n          {\n            \"name\": \"f42\",\n            \"type\": \"float\"\n          },\n          {\n            \"name\": \"f43\",\n            \"type\": \"float\"\n          },\n          {\n            \"name\": \"f44\",\n            \"type\": \"float\"\n          },\n          {\n            \"name\": \"f45\",\n            \"type\": \"float\"\n          },\n          {\n            \"name\": \"f46\",\n            \"type\": \"float\"\n          },\n          {\n            \"name\": \"f47\",\n            \"type\": \"float\"\n          },\n          {\n            \"name\": \"f48\",\n            \"type\": \"float\"\n          },\n          {\n            \"name\": \"f49\",\n            \"type\": \"float\"\n          },\n          {\n            \"name\": \"f50\",\n            \"type\": \"float\"\n          },\n          {\n            \"name\": \"f51\",\n            \"type\": \"float\"\n          },\n          {\n            \"name\": \"f52\",\n            \"type\": \"float\"\n          },\n          {\n            \"name\": \"f53\",\n            \"type\": \"float\"\n          },\n          {\n            \"name\": \"f54\",\n            \"type\": \"float\"\n          },\n          {\n            \"name\": \"f55\",\n            \"type\": \"float\"\n          },\n          {\n            \"name\": \"f56\",\n            \"type\": \"float\"\n          },\n          {\n            \"name\": \"f57\",\n            \"type\": \"float\"\n          },\n          {\n            \"name\": \"f58\",\n            \"type\": \"float\"\n          },\n          {\n            \"name\": \"f59\",\n            \"type\": \"float\"\n          },\n          {\n            \"name\": \"f60\",\n            \"type\": \"float\"\n          },\n          {\n            \"name\": \"f61\",\n            \"type\": \"float\"\n          },\n          {\n            \"name\": \"f62\",\n            \"type\": \"float\"\n          },\n          {\n            \"name\": \"f63\",\n            \"type\": \"float\"\n          }\n        ],\n        \"type\": \"ndarray\"\n      },\n      \"labels\": {\n        \"fields\": [\n          {\n            \"name\": \"l1\",\n            \"type\": \"int\"\n          }\n        ],\n        \"type\": \"ndarray\"\n      }\n    },\n    \"training_data_schema\": {\n      \"features\": {\n        \"fields\": [\n          {\n            \"name\": \"f0\",\n            \"type\": \"float\"\n          },\n          {\n            \"name\": \"f1\",\n            \"type\": \"float\"\n          },\n          {\n            \"name\": \"f2\",\n            \"type\": \"float\"\n          },\n          {\n            \"name\": \"f3\",\n            \"type\": \"float\"\n          },\n          {\n            \"name\": \"f4\",\n            \"type\": \"float\"\n          },\n          {\n            \"name\": \"f5\",\n            \"type\": \"float\"\n          },\n          {\n            \"name\": \"f6\",\n            \"type\": \"float\"\n          },\n          {\n            \"name\": \"f7\",\n            \"type\": \"float\"\n          },\n          {\n            \"name\": \"f8\",\n            \"type\": \"float\"\n          },\n          {\n            \"name\": \"f9\",\n            \"type\": \"float\"\n          },\n          {\n            \"name\": \"f10\",\n            \"type\": \"float\"\n          },\n          {\n            \"name\": \"f11\",\n            \"type\": \"float\"\n          },\n          {\n            \"name\": \"f12\",\n            \"type\": \"float\"\n          },\n          {\n            \"name\": \"f13\",\n            \"type\": \"float\"\n          },\n          {\n            \"name\": \"f14\",\n            \"type\": \"float\"\n          },\n          {\n            \"name\": \"f15\",\n            \"type\": \"float\"\n          },\n          {\n            \"name\": \"f16\",\n            \"type\": \"float\"\n          },\n          {\n            \"name\": \"f17\",\n            \"type\": \"float\"\n          },\n          {\n            \"name\": \"f18\",\n            \"type\": \"float\"\n          },\n          {\n            \"name\": \"f19\",\n            \"type\": \"float\"\n          },\n          {\n            \"name\": \"f20\",\n            \"type\": \"float\"\n          },\n          {\n            \"name\": \"f21\",\n            \"type\": \"float\"\n          },\n          {\n            \"name\": \"f22\",\n            \"type\": \"float\"\n          },\n          {\n            \"name\": \"f23\",\n            \"type\": \"float\"\n          },\n          {\n            \"name\": \"f24\",\n            \"type\": \"float\"\n          },\n          {\n            \"name\": \"f25\",\n            \"type\": \"float\"\n          },\n          {\n            \"name\": \"f26\",\n            \"type\": \"float\"\n          },\n          {\n            \"name\": \"f27\",\n            \"type\": \"float\"\n          },\n          {\n            \"name\": \"f28\",\n            \"type\": \"float\"\n          },\n          {\n            \"name\": \"f29\",\n            \"type\": \"float\"\n          },\n          {\n            \"name\": \"f30\",\n            \"type\": \"float\"\n          },\n          {\n            \"name\": \"f31\",\n            \"type\": \"float\"\n          },\n          {\n            \"name\": \"f32\",\n            \"type\": \"float\"\n          },\n          {\n            \"name\": \"f33\",\n            \"type\": \"float\"\n          },\n          {\n            \"name\": \"f34\",\n            \"type\": \"float\"\n          },\n          {\n            \"name\": \"f35\",\n            \"type\": \"float\"\n          },\n          {\n            \"name\": \"f36\",\n            \"type\": \"float\"\n          },\n          {\n            \"name\": \"f37\",\n            \"type\": \"float\"\n          },\n          {\n            \"name\": \"f38\",\n            \"type\": \"float\"\n          },\n          {\n            \"name\": \"f39\",\n            \"type\": \"float\"\n          },\n          {\n            \"name\": \"f40\",\n            \"type\": \"float\"\n          },\n          {\n            \"name\": \"f41\",\n            \"type\": \"float\"\n          },\n          {\n            \"name\": \"f42\",\n            \"type\": \"float\"\n          },\n          {\n            \"name\": \"f43\",\n            \"type\": \"float\"\n          },\n          {\n            \"name\": \"f44\",\n            \"type\": \"float\"\n          },\n          {\n            \"name\": \"f45\",\n            \"type\": \"float\"\n          },\n          {\n            \"name\": \"f46\",\n            \"type\": \"float\"\n          },\n          {\n            \"name\": \"f47\",\n            \"type\": \"float\"\n          },\n          {\n            \"name\": \"f48\",\n            \"type\": \"float\"\n          },\n          {\n            \"name\": \"f49\",\n            \"type\": \"float\"\n          },\n          {\n            \"name\": \"f50\",\n            \"type\": \"float\"\n          },\n          {\n            \"name\": \"f51\",\n            \"type\": \"float\"\n          },\n          {\n            \"name\": \"f52\",\n            \"type\": \"float\"\n          },\n          {\n            \"name\": \"f53\",\n            \"type\": \"float\"\n          },\n          {\n            \"name\": \"f54\",\n            \"type\": \"float\"\n          },\n          {\n            \"name\": \"f55\",\n            \"type\": \"float\"\n          },\n          {\n            \"name\": \"f56\",\n            \"type\": \"float\"\n          },\n          {\n            \"name\": \"f57\",\n            \"type\": \"float\"\n          },\n          {\n            \"name\": \"f58\",\n            \"type\": \"float\"\n          },\n          {\n            \"name\": \"f59\",\n            \"type\": \"float\"\n          },\n          {\n            \"name\": \"f60\",\n            \"type\": \"float\"\n          },\n          {\n            \"name\": \"f61\",\n            \"type\": \"float\"\n          },\n          {\n            \"name\": \"f62\",\n            \"type\": \"float\"\n          },\n          {\n            \"name\": \"f63\",\n            \"type\": \"float\"\n          }\n        ],\n        \"type\": \"ndarray\"\n      },\n      \"labels\": {\n        \"fields\": [\n          {\n            \"name\": \"l1\",\n            \"type\": \"int\"\n          }\n        ],\n        \"type\": \"ndarray\"\n      }\n    },\n    \"name\": \"Digits prediction model\",\n    \"runtime_environment\": \"python-3.5\",\n    \"evaluation_metrics_url\": \"https://us-south.ml.cloud.ibm.com/v3/wml_instances/466855e5-8ca6-4235-bac7-1f57815409ce/published_models/ddbbb379-6aa1-452f-a0e7-57f5578378ce/evaluation_metrics\",\n    \"learning_iterations_url\": \"https://us-south.ml.cloud.ibm.com/v3/wml_instances/466855e5-8ca6-4235-bac7-1f57815409ce/published_models/ddbbb379-6aa1-452f-a0e7-57f5578378ce/learning_iterations\",\n    \"learning_configuration_url\": \"https://us-south.ml.cloud.ibm.com/v3/wml_instances/466855e5-8ca6-4235-bac7-1f57815409ce/published_models/ddbbb379-6aa1-452f-a0e7-57f5578378ce/learning_configuration\",\n    \"model_type\": \"scikit-learn-0.19\",\n    \"feedback_url\": \"https://us-south.ml.cloud.ibm.com/v3/wml_instances/466855e5-8ca6-4235-bac7-1f57815409ce/published_models/ddbbb379-6aa1-452f-a0e7-57f5578378ce/feedback\",\n    \"label_col\": \"l1\",\n    \"deployments\": {\n      \"count\": 0,\n      \"url\": \"https://us-south.ml.cloud.ibm.com/v3/wml_instances/466855e5-8ca6-4235-bac7-1f57815409ce/published_models/ddbbb379-6aa1-452f-a0e7-57f5578378ce/deployments\"\n    }\n  },\n  \"metadata\": {\n    \"modified_at\": \"2019-07-04T07:39:07.935Z\",\n    \"created_at\": \"2019-07-04T07:39:07.864Z\",\n    \"guid\": \"ddbbb379-6aa1-452f-a0e7-57f5578378ce\",\n    \"url\": \"https://us-south.ml.cloud.ibm.com/v3/wml_instances/466855e5-8ca6-4235-bac7-1f57815409ce/published_models/ddbbb379-6aa1-452f-a0e7-57f5578378ce\"\n  }\n}\n"
                }
            ], 
            "execution_count": 23
        }, 
        {
            "source": "#### Get information of all the models in the WML repository.", 
            "cell_type": "markdown", 
            "metadata": {}
        }, 
        {
            "source": "models_details = client.repository.list_models()", 
            "cell_type": "code", 
            "metadata": {}, 
            "outputs": [
                {
                    "output_type": "stream", 
                    "name": "stdout", 
                    "text": "------------------------------------  -----------------------  ------------------------  -----------------\nGUID                                  NAME                     CREATED                   FRAMEWORK\nddbbb379-6aa1-452f-a0e7-57f5578378ce  Digits prediction model  2019-07-04T07:39:07.864Z  scikit-learn-0.19\nc0ecbff4-da31-45b6-9bde-5b4d7f276a75  Digits prediction model  2019-07-04T07:25:31.027Z  scikit-learn-0.20\n------------------------------------  -----------------------  ------------------------  -----------------\n"
                }
            ], 
            "execution_count": 24
        }, 
        {
            "source": "### 4.3 Load a model from the WML repository<a id='load_model'></a>", 
            "cell_type": "markdown", 
            "metadata": {}
        }, 
        {
            "source": "In this subsection, you will learn how to load a saved model from a specific WML instance.", 
            "cell_type": "markdown", 
            "metadata": {}
        }, 
        {
            "source": "loaded_model = client.repository.load(published_model_uid)", 
            "cell_type": "code", 
            "metadata": {}, 
            "outputs": [], 
            "execution_count": 25
        }, 
        {
            "source": "Make test predictions to check that the model has been loaded correctly.", 
            "cell_type": "markdown", 
            "metadata": {}
        }, 
        {
            "source": "test_predictions = loaded_model.predict(test_data[:10])", 
            "cell_type": "code", 
            "metadata": {}, 
            "outputs": [], 
            "execution_count": 26
        }, 
        {
            "source": "# The predictions made by the model.\nprint(test_predictions)", 
            "cell_type": "code", 
            "metadata": {}, 
            "outputs": [
                {
                    "output_type": "stream", 
                    "name": "stdout", 
                    "text": "[4 0 5 3 6 9 6 4 7 5]\n"
                }
            ], 
            "execution_count": 27
        }, 
        {
            "source": "# Visualize the test set images used for the prediction.\nf, ((ax1, ax2, ax3, ax4, ax5), (ax6, ax7, ax8, ax9, ax10)) = plt.subplots(2, 5, figsize=(15,5))\nax = [ax1, ax2, ax3, ax4, ax5, ax6, ax7, ax8, ax9, ax10]\n\nfor i in range (len(ax)):\n    plt.gray()\n    ax[i].matshow(test_data[i].reshape((8, 8)))", 
            "cell_type": "code", 
            "metadata": {}, 
            "outputs": [
                {
                    "output_type": "display_data", 
                    "data": {
                        "image/png": "[encoded data removed]", 
                        "text/plain": "<matplotlib.figure.Figure at 0x7fa5db874f60>"
                    }, 
                    "metadata": {}
                }
            ], 
            "execution_count": 28
        }, 
        {
            "source": "# The correct labels for the digits above.\ntest_labels[:10]", 
            "cell_type": "code", 
            "metadata": {}, 
            "outputs": [
                {
                    "output_type": "execute_result", 
                    "data": {
                        "text/plain": "array([4, 0, 5, 3, 6, 9, 6, 1, 7, 5])"
                    }, 
                    "execution_count": 29, 
                    "metadata": {}
                }
            ], 
            "execution_count": 29
        }, 
        {
            "source": "As you can see, you are able to make predictions which means that the model has loaded correctly. You have now learned how save and load the model in/from the WML repository.", 
            "cell_type": "markdown", 
            "metadata": {}
        }, 
        {
            "source": "### 4.4 Delete a model from the WML repository<a id='delete'></a>", 
            "cell_type": "markdown", 
            "metadata": {}
        }, 
        {
            "source": "The code in the following cell deletes a published model from the WML repository. The code is not executable at this stage because you still need the model for deployment.", 
            "cell_type": "markdown", 
            "metadata": {}
        }, 
        {
            "source": "client.repository.delete(published_model_uid)", 
            "cell_type": "raw", 
            "metadata": {}
        }, 
        {
            "source": "<a id='scoring'></a>\n## 5. Deploy and score data in the WML repository", 
            "cell_type": "markdown", 
            "metadata": {}
        }, 
        {
            "source": "In this section, you will learn how to use the WML API client to perform online scoring and score a test data record.\n\n- [5.1 Create an online deployment for the published model](#create)\n- [5.2 Get deployments](#getdeploy)\n- [5.3 Score data](#score)\n- [5.4 Delete the deployment](#deldeploy)\n- [5.5 Delete the model](#delmodel)\n", 
            "cell_type": "markdown", 
            "metadata": {}
        }, 
        {
            "source": "### 5.1 Create an online deployment for the published model<a id='create'></a>", 
            "cell_type": "markdown", 
            "metadata": {}
        }, 
        {
            "source": "created_deployment = client.deployments.create(published_model_uid, 'Deployment of scikit model')", 
            "cell_type": "code", 
            "metadata": {}, 
            "outputs": [
                {
                    "output_type": "stream", 
                    "name": "stdout", 
                    "text": "\n\n#######################################################################################\n\nSynchronous deployment creation for uid: 'ddbbb379-6aa1-452f-a0e7-57f5578378ce' started\n\n#######################################################################################\n\n\nINITIALIZING\nDEPLOY_SUCCESS\n\n\n------------------------------------------------------------------------------------------------\nSuccessfully finished deployment creation, deployment_uid='bf48dfcd-dbdc-424a-a030-1922b6606f82'\n------------------------------------------------------------------------------------------------\n\n\n"
                }
            ], 
            "execution_count": 30
        }, 
        {
            "source": "**Note**: You use the deployment url saved in published_model_uid object. The next section shows you how to retrieve the deployment url from the WML instance.", 
            "cell_type": "markdown", 
            "metadata": {}
        }, 
        {
            "source": "Now, you can define and print an online scoring endpoint. ", 
            "cell_type": "markdown", 
            "metadata": {}
        }, 
        {
            "source": "scoring_endpoint = client.deployments.get_scoring_url(created_deployment)\n\nprint(scoring_endpoint)", 
            "cell_type": "code", 
            "metadata": {}, 
            "outputs": [
                {
                    "output_type": "stream", 
                    "name": "stdout", 
                    "text": "https://ibm-watson-ml.mybluemix.net/v3/wml_instances/466855e5-8ca6-4235-bac7-1f57815409ce/deployments/bf48dfcd-dbdc-424a-a030-1922b6606f82/online\n"
                }
            ], 
            "execution_count": 31
        }, 
        {
            "source": "### 5.2 Get deployments<a id='getdeploy'></a>", 
            "cell_type": "markdown", 
            "metadata": {}
        }, 
        {
            "source": "deployments = client.deployments.get_details()", 
            "cell_type": "code", 
            "metadata": {}, 
            "outputs": [], 
            "execution_count": 32
        }, 
        {
            "source": "You can get the deployment_url by parsing the deployment details for the last deployed model.", 
            "cell_type": "markdown", 
            "metadata": {}
        }, 
        {
            "source": "deployment_url = client.deployments.get_url(created_deployment)\n\nprint(deployment_url)", 
            "cell_type": "code", 
            "metadata": {}, 
            "outputs": [
                {
                    "output_type": "stream", 
                    "name": "stdout", 
                    "text": "https://ibm-watson-ml.mybluemix.net/v3/wml_instances/466855e5-8ca6-4235-bac7-1f57815409ce/deployments/bf48dfcd-dbdc-424a-a030-1922b6606f82\n"
                }
            ], 
            "execution_count": 33
        }, 
        {
            "source": "### 5.3 Score data<a id='score'></a>", 
            "cell_type": "markdown", 
            "metadata": {}
        }, 
        {
            "source": "Use the following method to run a test scoring request against the deployed model.", 
            "cell_type": "markdown", 
            "metadata": {}
        }, 
        {
            "source": "**Action**: Prepare scoring payload with the records to score.", 
            "cell_type": "markdown", 
            "metadata": {}
        }, 
        {
            "source": "scoring_payload = {'values': [list(score_data[0]), list(score_data[1])]}", 
            "cell_type": "code", 
            "metadata": {}, 
            "outputs": [], 
            "execution_count": 34
        }, 
        {
            "source": "Use the ``client.deployments.score()`` method to run the scoring.", 
            "cell_type": "markdown", 
            "metadata": {}
        }, 
        {
            "source": "predictions = client.deployments.score(scoring_endpoint, scoring_payload)", 
            "cell_type": "code", 
            "metadata": {}, 
            "outputs": [], 
            "execution_count": 35
        }, 
        {
            "source": "print(json.dumps(predictions, indent=2))", 
            "cell_type": "code", 
            "metadata": {}, 
            "outputs": [
                {
                    "output_type": "stream", 
                    "name": "stdout", 
                    "text": "{\n  \"values\": [\n    [\n      5\n    ],\n    [\n      2\n    ]\n  ],\n  \"fields\": [\n    \"prediction\"\n  ]\n}\n"
                }
            ], 
            "execution_count": 36
        }, 
        {
            "source": "### 5.4 Delete the deployment<a id='deldeploy'></a>", 
            "cell_type": "markdown", 
            "metadata": {}
        }, 
        {
            "source": "Use the following method to delete the deployment.", 
            "cell_type": "markdown", 
            "metadata": {}
        }, 
        {
            "source": "client.deployments.delete(client.deployments.get_uid(created_deployment))", 
            "cell_type": "code", 
            "metadata": {}, 
            "outputs": [
                {
                    "output_type": "execute_result", 
                    "data": {
                        "text/plain": "'SUCCESS'"
                    }, 
                    "execution_count": 37, 
                    "metadata": {}
                }
            ], 
            "execution_count": 37
        }, 
        {
            "source": "You can check that your deployment was deleted by generating a list of your saved deployments:", 
            "cell_type": "markdown", 
            "metadata": {}
        }, 
        {
            "source": "client.deployments.list()", 
            "cell_type": "code", 
            "metadata": {}, 
            "outputs": [
                {
                    "output_type": "stream", 
                    "name": "stdout", 
                    "text": "----  ----  ----  -----  -------  ---------  -------------\nGUID  NAME  TYPE  STATE  CREATED  FRAMEWORK  ARTIFACT TYPE\n----  ----  ----  -----  -------  ---------  -------------\n"
                }
            ], 
            "execution_count": 39
        }, 
        {
            "source": "### 5.5 Delete the model<a id='delmodel'></a>", 
            "cell_type": "markdown", 
            "metadata": {}
        }, 
        {
            "source": "client.repository.delete(published_model_uid)", 
            "cell_type": "code", 
            "metadata": {}, 
            "outputs": [
                {
                    "output_type": "execute_result", 
                    "data": {
                        "text/plain": "'SUCCESS'"
                    }, 
                    "execution_count": 40, 
                    "metadata": {}
                }
            ], 
            "execution_count": 40
        }, 
        {
            "source": "You can check that your model was deleted by generating a list of your saved models:", 
            "cell_type": "markdown", 
            "metadata": {}
        }, 
        {
            "source": "client.repository.list_models()", 
            "cell_type": "code", 
            "metadata": {}, 
            "outputs": [
                {
                    "output_type": "stream", 
                    "name": "stdout", 
                    "text": "------------------------------------  -----------------------  ------------------------  -----------------\nGUID                                  NAME                     CREATED                   FRAMEWORK\nc0ecbff4-da31-45b6-9bde-5b4d7f276a75  Digits prediction model  2019-07-04T07:25:31.027Z  scikit-learn-0.20\n------------------------------------  -----------------------  ------------------------  -----------------\n"
                }
            ], 
            "execution_count": 41
        }, 
        {
            "source": "<a id='summary'></a>\n## 6. Summary and next steps     ", 
            "cell_type": "markdown", 
            "metadata": {
                "collapsed": true
            }
        }, 
        {
            "source": "You successfully completed this notebook! \n \nYou learned how to use scikit-learn machine learning as well as Watson Machine Learning (WML) API client for model creation and deployment. \n\nCheck out our <a href=\"https://dataplatform.ibm.com/docs/content/analyze-data/wml-setup.html\" target=\"_blank\" rel=\"noopener noreferrer\">Online Documentation</a> for more samples, tutorials, documentation, how-tos, and blog posts. ", 
            "cell_type": "markdown", 
            "metadata": {
                "collapsed": true
            }
        }, 
        {
            "source": "### Authors\n\n**Wojciech Sobala** is a Data Scientist at IBM developing enterprise-level applications that substantially increases clients' ability to turn data into actionable knowledge.  \n**Ananya Kaushik** is a Data Scientist at IBM.", 
            "cell_type": "markdown", 
            "metadata": {}
        }, 
        {
            "source": "Copyright \u00a9 2017-2019 IBM. This notebook and its source code are released under the terms of the MIT License.", 
            "cell_type": "markdown", 
            "metadata": {}
        }, 
        {
            "source": "<div style='background:#F5F7FA; height:110px; padding: 2em; font-size:14px;'>\n<span style='font-size:18px;color:#152935;'>Love this notebook? </span>\n<span style='font-size:15px;color:#152935;float:right;margin-right:40px;'>Don't have an account yet?</span><br>\n<span style='color:#5A6872;'>Share it with your colleagues and help them discover the power of Watson Studio!</span>\n<span style='border: 1px solid #3d70b2;padding:8px;float:right;margin-right:40px; color:#3d70b2;'><a href='https://ibm.co/wsnotebooks' target='_blank' style='color: #3d70b2;text-decoration: none;'>Sign Up</a></span><br>\n</div>", 
            "cell_type": "markdown", 
            "metadata": {}
        }
    ], 
    "metadata": {
        "kernelspec": {
            "display_name": "Python 3.5", 
            "name": "python3", 
            "language": "python"
        }, 
        "language_info": {
            "mimetype": "text/x-python", 
            "nbconvert_exporter": "python", 
            "version": "3.5.5", 
            "name": "python", 
            "pygments_lexer": "ipython3", 
            "file_extension": ".py", 
            "codemirror_mode": {
                "version": 3, 
                "name": "ipython"
            }
        }
    }, 
    "nbformat": 4
}