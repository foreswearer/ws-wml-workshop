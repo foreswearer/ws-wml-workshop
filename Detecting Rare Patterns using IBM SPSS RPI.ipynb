{
    "nbformat_minor": 1, 
    "cells": [
        {
            "source": "# Detecting Rare Patterns Using the IBM SPSS RPI Algorithm\n\n\nAdvances in data collection and data storage technologies lead to the increasing availability of complex temporal data sets. Data instances are traces of entity behaviors that are characterized by the time series of events with single or multiple variables. This kind of data is event-based time series. The analysis of these temporal data is one of the most challenging topics in data mining research.\n\n## What is Event-Based Time Series\n\nThe event-based time series consist of one or more sequences of events that occurred at different time points. Each event is optionally linked to a numeric value. The time points are unevenly spaced, that is to say, the time spaces between consecutive events are of arbitrary length. \n\n<img src=\"https://dw1.s81c.com/IMWUC/MessageImages/TinyMce/632af13e-5c20-4d2d-bad3-09c5e598ef39.jpg\"  width=\"350\">\n\nEvent-based time series data can be collected from many industrial or scientific domains. In the previous data example, it shows online travel agency data. Each transaction record includes a customer ID number and the type of product booked online. A time stamp shows when a booking event happened, and a numeric value shows how much money this booking spent. Data with such characteristics can also be found in other cases. For a bank, customers can conduct different activities at different time points: withdraw, deposit, transfer, and so on. For a gas station, customer activities might include top-up, refilling, shopping, and so on. All these customer activities or events of can be represented in event-based time series data. So event-based time series pattern analysis might benefit enterprise in the gaining insight and understanding behavior, such as behavior prediction, demand shaping, personalized promotion. \n\nCompared with traditional time series or sequence data, there are some challenges for event-based time series pattern analysis that is listed as the following:\n\n* Different from sequence analysis in which only orders of events are mined. Event-based time series pattern analysis also needs to mine the time intervals between consecutive events.\n* Event-based time series pattern analysis is interested in the values that are linked with events and their adjacent relationship rather than mining the events themselves.\nTo solve those challenges, IBM provides a Rare Pattern Identifier(RPI) Analysis algorithm that tries to discover rare temporal patterns in event-based time series data.\n\n# IBM SPSS RPI Analysis\n\nIBM SPSS Rare Pattern Identifier(RPI) Analysis algorithm can discover rare temporal patterns in event-based time series data by accounting for two elements for each event: time interval and event value, which reveal the sequential relationship among adjacent events. Rare temporal patterns are discovered across all the entities, which might be used as a feature for customer segmentation or behavior prediction. \n\nRPI Analysis can handle the following data:\n\n* Consist of one or more series of events that occurred at different time points.\n* Each series is unequally spaced time series.\n* Each event might link with a numeric value.\nRPI Analysis can provide the following information:\n\n* Discretization rule for the linked values and time interval.\n* Temporal patterns whose vertical support is below predefined threshold.\n* Temporal patterns whose horizontal support and rate are above predefined threshold.\n* Temporal features to characterize each entity.\n* Interestingness for identified rare patterns, and entities with identified rare patterns.\n\n### Use Case\n\nBill administers a large website and he wants to detect potential network attacks targeted at his website. He learned from previous experience that rare patterns of user activity in the website might indicate network attacks.\n\n\nThe data that he extracted from web server log file include the following information:\n\n* There are millions of users to be analyzed.\n* Each user has a sequence of transactional events.\n* Each event data includes:\n   - userID: Identifier of user\n   - visitTime: the time user visit a URL\n   - url: encoded value of the URL\n<img src=\"https://dw1.s81c.com/IMWUC/MessageImages/TinyMce/91cf9508-a6fd-47b1-a70c-91f9c7d05f0d.jpg\"  width=\"200\">\n\nThe characters of the data match the property of the event-based time series data.", 
            "cell_type": "markdown", 
            "attachments": {}, 
            "metadata": {
                "collapsed": true
            }
        }, 
        {
            "source": "### Step 1. Load Data\nFirst specify the data type for each field of the data, and load the data rpi_data.csv.\n\n__Note:__ _The code inserted automatically does not take into account the schema. Just add this first cell and then `schema(schema).` before the `.load` method_. _Also delete `option(\"inferSchema\", \"true\").` as we are not infering from the file_", 
            "cell_type": "markdown", 
            "metadata": {}
        }, 
        {
            "source": "import org.apache.spark.sql.types.{StructType, StructField, StringType, IntegerType, DateType}", 
            "cell_type": "code", 
            "metadata": {}, 
            "outputs": [], 
            "execution_count": 1
        }, 
        {
            "source": "val schema = StructType(\n  StructField(\"userID\", StringType, true) ::\n  StructField(\"visitTime\", DateType, true) ::\n  StructField(\"url\", StringType, true) ::Nil)", 
            "cell_type": "code", 
            "metadata": {}, 
            "outputs": [
                {
                    "output_type": "display_data", 
                    "data": {
                        "text/plain": "schema = StructType(StructField(userID,StringType,true), StructField(visitTime,DateType,true), StructField(url,StringType,true))\n"
                    }, 
                    "metadata": {}
                }, 
                {
                    "output_type": "execute_result", 
                    "data": {
                        "text/plain": "StructType(StructField(userID,StringType,true), StructField(visitTime,DateType,true), StructField(url,StringType,true))"
                    }, 
                    "execution_count": 2, 
                    "metadata": {}
                }
            ], 
            "execution_count": 2
        }, 
        {
            "source": "import com.ibm.ibmos2spark.CloudObjectStorage\n\n// @hidden_cell\nvar credentials = scala.collection.mutable.HashMap[String, String](\n    \"endPoint\"->\"https://s3-api.us-geo.objectstorage.service.networklayer.com\",\n    \"apiKey\"->\"kUkuG6QrEdOHy3MRJBp1CS_f0FuIrbjfK6mYDjAh-c6p\",\n    \"serviceId\"->\"iam-ServiceId-5a988285-b05d-4148-afb9-19cbd594edb6\",\n    \"iamServiceEndpoint\" -> \"https://iam.bluemix.net/oidc/token\")\n\nvar configurationName = \"os_cba83a820ee941cd921cc2bbfefd15eb_configs\"\nvar cos = new CloudObjectStorage(sc, credentials, configurationName, \"bluemix_cos\")\n\nimport org.apache.spark.sql.SparkSession\n\nval spark = SparkSession.\n    builder().\n    getOrCreate()\nval df = spark.\n    read.format(\"org.apache.spark.sql.execution.datasources.csv.CSVFileFormat\").\n    schema(schema).\n    option(\"header\", \"true\").\n    load(cos.url(\"taller-donotdelete-pr-oig7dhr92xtgem\", \"rpi_data.csv\"))\ndf.show(5)", 
            "cell_type": "code", 
            "metadata": {}, 
            "outputs": [
                {
                    "output_type": "stream", 
                    "name": "stdout", 
                    "text": "+------+----------+---+\n|userID| visitTime|url|\n+------+----------+---+\n|     0|2016-06-21|  0|\n|     0|2016-06-11|  0|\n|     0|2016-06-14|  0|\n|     0|2016-06-17|  0|\n|     0|2016-06-13|  1|\n+------+----------+---+\nonly showing top 5 rows\n\n"
                }, 
                {
                    "output_type": "display_data", 
                    "data": {
                        "text/plain": "credentials = Map(apiKey -> kUkuG6QrEdOHy3MRJBp1CS_f0FuIrbjfK6mYDjAh-c6p, serviceId -> iam-ServiceId-5a988285-b05d-4148-afb9-19cbd594edb6, endPoint -> https://s3-api.us-geo.objectstorage.service.networklayer.com, iamServiceEndpoint -> https://iam.bluemix.net/oidc/token)\nconfigurationName = os_cba83a820ee941cd921cc2bbfefd15eb_configs\ncos = com.ibm.ibmos2spark.CloudObjectStorage@772e7ff8\nspark = org.apache.spark.sql.SparkSession@1f09df6f\ndf = [userID: string, visitTime: date ... 1 more field]\n"
                    }, 
                    "metadata": {}
                }, 
                {
                    "output_type": "execute_result", 
                    "data": {
                        "text/plain": "[userID: string, visitTime: date ... 1 more field]"
                    }, 
                    "execution_count": 3, 
                    "metadata": {}
                }
            ], 
            "execution_count": 3
        }, 
        {
            "source": "###\u00a0Step 2. Set Parameters and Run RPI Analysis\n\nThen, set the entity id, event time, and event type field. Also set the minimal level of pattern to 3 and maximal level of pattern to 5. He also sets the threshold of vertical support to 0.1, minimal frequency of rare pattern to 2, and minimal rate of rare pattern to 0.3.", 
            "cell_type": "markdown", 
            "metadata": {}
        }, 
        {
            "source": "import com.ibm.spss.ml.frequentpatternmining.rarepatternidentifier.RarePatternIdentifier\nval rpi = new RarePatternIdentifier().\n  setEntityIDField(\"userID\").\n  setEventTimeField(\"visitTime\").\n  setEventTypeField(\"url\").\n  setMaxVerticalSupport(0.1).\n  setMinPatternLength(3).\n  setMaxPatternLength(5).\n  setMinFreqOfRarePatternInEntity(2).\n  setMinRateOfRarePatternInEntity(0.3).\n  fit(df)\n \nval patternXML = rpi.patternXML", 
            "cell_type": "code", 
            "metadata": {}, 
            "outputs": [
                {
                    "output_type": "display_data", 
                    "data": {
                        "text/plain": "rpi = RarePatternIdentifierModel_cc4581fdb4b8\npatternXML = <?xml version='1.0' encoding='UTF-8'?><RarePatternIdentifier><Fields id=\"userID\" time=\"visitTime\" type=\"url\"/><EventType size=\"4\"><ID><Array n=\"4\" type=\"int\">0 1 2 3</Array></ID><Values><Array n=\"4\" type=\"string\">\"0\" \"1\" \"2\" \"3\"</Array></Values></EventType><TimeInterval size=\"2\" transformation=\"NONE\"><ID><Array n=\"2\" type=\"int\">0 1</Array></ID><CutPoints><Array n=\"1\" type=\"real\">0.0</Array></CutPoints></TimeInterval><Patterns size=\"3\"><Pattern id=\"0\" length=\"4\" vSupport=\"0.09090909090909091\" maxRate=\"0.5\" confidence=\"1.0\" interest=\"0.5625173454237...\n"
                    }, 
                    "metadata": {}
                }, 
                {
                    "output_type": "execute_result", 
                    "data": {
                        "text/plain": "<?xml version='1.0' encoding='UTF-8'?><RarePatternIdentifier><Fields id=\"userID\" time=\"visitTime\" type=\"url\"/><EventType size=\"4\"><ID><Array n=\"4\" type=\"int\">0 1 2 3</Array></ID><Values><Array n=\"4\" type=\"string\">\"0\" \"1\" \"2\" \"3\"</Array></Values></EventType><TimeInterval size=\"2\" transformation=\"NONE\"><ID><Array n=\"2\" type=\"int\">0 1</Array></ID><CutPoints><Array n=\"1\" type=\"real\">0.0</Array></CutPoints></TimeInterval><Patterns size=\"3\"><Pattern id=\"0\" length=\"4\" vSupport=\"0.09090909090909091\" maxRate=\"0.5\" confidence=\"1.0\" interest=\"0.5625173454237..."
                    }, 
                    "execution_count": 4, 
                    "metadata": {}
                }
            ], 
            "execution_count": 4
        }, 
        {
            "source": "In the setting, vertical support is the percentage of users that have a rare pattern.  Rate is the percentage of the length of the rare pattern in all the events of a user.\n\n### Step 3. Check Result", 
            "cell_type": "markdown", 
            "metadata": {}
        }, 
        {
            "source": "val p = new scala.xml.PrettyPrinter(80, 4)\nval xml = scala.xml.XML.loadString(patternXML)\nprint(p.format(xml))", 
            "cell_type": "code", 
            "metadata": {}, 
            "outputs": [
                {
                    "output_type": "stream", 
                    "name": "stdout", 
                    "text": "<RarePatternIdentifier>\n    <Fields type=\"url\" time=\"visitTime\" id=\"userID\"/>\n    <EventType size=\"4\">\n        <ID>\n            <Array type=\"int\" n=\"4\">0 1 2 3</Array>\n        </ID>\n        <Values>\n            <Array type=\"string\" n=\"4\">\n                &quot;0&quot; &quot;1&quot; &quot;2&quot; &quot;3&quot;\n            </Array>\n        </Values>\n    </EventType>\n    <TimeInterval transformation=\"NONE\" size=\"2\">\n        <ID>\n            <Array type=\"int\" n=\"2\">0 1</Array>\n        </ID>\n        <CutPoints>\n            <Array type=\"real\" n=\"1\">0.0</Array>\n        </CutPoints>\n    </TimeInterval>\n    <Patterns size=\"3\">\n        <Pattern \n        interestOfConfidence=\"1.0\" interestOfMaxRate=\"0.5\" interestOfVSupport=\"6.938169513703851E-5\" interestOfLength=\"0.75\" interest=\"0.5625173454237843\" confidence=\"1.0\" maxRate=\"0.5\" vSupport=\"0.09090909090909091\" length=\"4\" id=\"0\">\n            <Item>\n                <Array type=\"int\" n=\"7\">1 0 1 0 1 0 1</Array>\n            </Item>\n            <Entities size=\"1\">\n                <Entity \n                interestOfConfidence=\"0.0\" interestOfRate=\"0.5\" interest=\"0.25\" confidence=\"0.0\" rate=\"0.5\" hSupport=\"2\" length=\"7\" value=\"8\">\n</Entity>\n            </Entities>\n</Pattern>\n        <Pattern \n        interestOfConfidence=\"1.0\" interestOfMaxRate=\"0.6\" interestOfVSupport=\"6.938169513703851E-5\" interestOfLength=\"0.5\" interest=\"0.5250173454237843\" confidence=\"1.0\" maxRate=\"0.6\" vSupport=\"0.09090909090909091\" length=\"3\" id=\"1\">\n            <Item>\n                <Array type=\"int\" n=\"5\">1 0 1 0 1</Array>\n            </Item>\n            <Entities size=\"1\">\n                <Entity \n                interestOfConfidence=\"0.0\" interestOfRate=\"0.6\" interest=\"0.3\" confidence=\"0.0\" rate=\"0.6\" hSupport=\"3\" length=\"7\" value=\"8\">\n</Entity>\n            </Entities>\n</Pattern>\n        <Pattern \n        interestOfConfidence=\"0.2\" interestOfMaxRate=\"0.5\" interestOfVSupport=\"6.938169513703851E-5\" interestOfLength=\"0.75\" interest=\"0.3625173454237843\" confidence=\"0.2\" maxRate=\"0.5\" vSupport=\"0.09090909090909091\" length=\"4\" id=\"2\">\n            <Item>\n                <Array type=\"int\" n=\"7\">0 1 0 1 0 1 0</Array>\n            </Item>\n            <Entities size=\"1\">\n                <Entity \n                interestOfConfidence=\"0.0\" interestOfRate=\"0.5\" interest=\"0.25\" confidence=\"0.0\" rate=\"0.5\" hSupport=\"2\" length=\"7\" value=\"0\">\n</Entity>\n            </Entities>\n</Pattern>\n    </Patterns>\n</RarePatternIdentifier>"
                }, 
                {
                    "output_type": "display_data", 
                    "data": {
                        "text/plain": "p = scala.xml.PrettyPrinter@3bca9b0d\nxml = <RarePatternIdentifier><Fields type=\"url\" time=\"visitTime\" id=\"userID\"/><EventType size=\"4\"><ID><Array type=\"int\" n=\"4\">0 1 2 3</Array></ID><Values><Array type=\"string\" n=\"4\">&quot;0&quot; &quot;1&quot; &quot;2&quot; &quot;3&quot;</Array></Values></EventType><TimeInterval transformation=\"NONE\" size=\"2\"><ID><Array type=\"int\" n=\"2\">0 1</Array></ID><CutPoints><Array type=\"real\" n=\"1\">0.0</Array></CutPoints></TimeInterval><Patterns size=\"3\"><Pattern interestOfConfidence=\"1.0\" interestOfMaxRate=\"0.5\" interestOfVSupport=\"6.938169513703851E-5\" interestOfLength=\"0.75\" interest=\"0.5625173454237843\" confidence=\"1.0\" maxRate=\"0.5\" vSupport=\"0.09090909090909091\" length=\"4\" id=\"0\"><Item><Array type=\"int\" n=\"7\">1 0 1 ...\n"
                    }, 
                    "metadata": {}
                }, 
                {
                    "output_type": "execute_result", 
                    "data": {
                        "text/plain": "<RarePatternIdentifier><Fields type=\"url\" time=\"visitTime\" id=\"userID\"/><EventType size=\"4\"><ID><Array type=\"int\" n=\"4\">0 1 2 3</Array></ID><Values><Array type=\"string\" n=\"4\">&quot;0&quot; &quot;1&quot; &quot;2&quot; &quot;3&quot;</Array></Values></EventType><TimeInterval transformation=\"NONE\" size=\"2\"><ID><Array type=\"int\" n=\"2\">0 1</Array></ID><CutPoints><Array type=\"real\" n=\"1\">0.0</Array></CutPoints></TimeInterval><Patterns size=\"3\"><Pattern interestOfConfidence=\"1.0\" interestOfMaxRate=\"0.5\" interestOfVSupport=\"6.938169513703851E-5\" interestOfLength=\"0.75\" interest=\"0.5625173454237843\" confidence=\"1.0\" maxRate=\"0.5\" vSupport=\"0.09090909090909091\" length=\"4\" id=\"0\"><Item><Array type=\"int\" n=\"7\">1 0 1 ..."
                    }, 
                    "execution_count": 5, 
                    "metadata": {}
                }
            ], 
            "execution_count": 5
        }, 
        {
            "source": "The results are as a pattern XML file. In the output pattern XML, we found the discretization information and rare patterns from the data.\n\n* Discretization rule of time interval:\n<img src=\"https://dw1.s81c.com/IMWUC/MessageImages/TinyMce/518fe6d1-790e-4844-aa91-dda0806bcbd3.jpg\"  width=\"300\">\n\nTime interval was split to 2 categories:\n\n* Category 1: time duration within 1 day.\n* Category 2: time duration greater than 1 day.\n \n\n* Patterns with vertical support, confidence, maximal rate, and interestingness:\n\n<img src=\"https://dw1.s81c.com/IMWUC/MessageImages/TinyMce/336752e3-ed39-42b1-8178-5335229be897.jpg\"  width=\"600\">\n \n\nFor pattern with id 1, it described a user who visits URL 1 four times within one day. \n\n* Rare Patterns of user:\n<img src=\"https://dw1.s81c.com/IMWUC/MessageImages/TinyMce/1fd4f6f8-204c-4e0b-ad51-f89d11a868c5.jpg\"  width=\"500\">\n\nFor user with ID 8:\n\n* There is a rare pattern 0, the horizontal support (frequency of the pattern) of this pattern is 2. The rate of this rare pattern is 50%, and the interestingness of this rare pattern for user 8 is 0.25.\n* There is a rare pattern 1, the horizontal support (frequency of the pattern) of this pattern is 3. The rate of this rare pattern is 60%, and the interestingness of this rare pattern for user 8 is 0.3.\n* \u2026\u2026\n\nWith all these information, Bill can combine rare patterns and the structure of his website to do further analysis for potential network attacks.\n\n##\u00a0Locating IBM SPSS RPI Algorithm\n\n###\u00a0Here is the link for the algorithms\n\n[IBM SPSS algorithm Spark and Python API](http://spss-algo.mybluemix.net/)", 
            "cell_type": "markdown", 
            "metadata": {}
        }, 
        {
            "source": "", 
            "cell_type": "code", 
            "metadata": {}, 
            "outputs": [], 
            "execution_count": null
        }
    ], 
    "metadata": {
        "kernelspec": {
            "display_name": "Scala 2.11 with Spark", 
            "name": "scala", 
            "language": "scala"
        }, 
        "language_info": {
            "mimetype": "text/x-scala", 
            "version": "2.11.12", 
            "name": "scala", 
            "pygments_lexer": "scala", 
            "file_extension": ".scala", 
            "codemirror_mode": "text/x-scala"
        }
    }, 
    "nbformat": 4
}